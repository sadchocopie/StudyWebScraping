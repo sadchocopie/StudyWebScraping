{
 "cells": [
  {
   "cell_type": "code",
   "execution_count": 13,
   "metadata": {
    "collapsed": true
   },
   "outputs": [],
   "source": [
    "# my first attempt at using the BeautifulSoup API to web scrape\n",
    "# tutorial and code from webpage below\n",
    "# https://www.dataquest.io/blog/web-scraping-tutorial-python/\n",
    "# this is just me testing all the code line by line\n",
    "# none of the code here are original, self-learning purpose only\n",
    "import requests\n",
    "from bs4 import BeautifulSoup"
   ]
  },
  {
   "cell_type": "code",
   "execution_count": 14,
   "metadata": {
    "collapsed": true
   },
   "outputs": [],
   "source": [
    "page = requests.get(\"http://forecast.weather.gov/MapClick.php?lat=37.7772&lon=-122.4168#.WmLfc5M-d68\")\n"
   ]
  },
  {
   "cell_type": "code",
   "execution_count": 15,
   "metadata": {},
   "outputs": [
    {
     "name": "stdout",
     "output_type": "stream",
     "text": [
      "<div class=\"tombstone-container\">\n",
      " <p class=\"period-name\">\n",
      "  Tonight\n",
      "  <br/>\n",
      "  <br/>\n",
      " </p>\n",
      " <p>\n",
      "  <img alt=\"Tonight: Mostly clear, with a low around 46. Northwest wind around 11 mph. \" class=\"forecast-icon\" src=\"newimages/medium/nfew.png\" title=\"Tonight: Mostly clear, with a low around 46. Northwest wind around 11 mph. \"/>\n",
      " </p>\n",
      " <p class=\"short-desc\">\n",
      "  Mostly Clear\n",
      " </p>\n",
      " <p class=\"temp temp-low\">\n",
      "  Low: 46 °F\n",
      " </p>\n",
      "</div>\n"
     ]
    }
   ],
   "source": [
    "page = requests.get(\"http://forecast.weather.gov/MapClick.php?lat=37.7772&lon=-122.4168\")\n",
    "soup = BeautifulSoup(page.content, 'html.parser')\n",
    "seven_day = soup.find(id=\"seven-day-forecast\")\n",
    "forecast_items = seven_day.find_all(class_=\"tombstone-container\")\n",
    "tonight = forecast_items[0]\n",
    "print(tonight.prettify())"
   ]
  },
  {
   "cell_type": "code",
   "execution_count": 16,
   "metadata": {},
   "outputs": [
    {
     "name": "stdout",
     "output_type": "stream",
     "text": [
      "Tonight\n",
      "Mostly Clear\n",
      "Low: 46 °F\n"
     ]
    }
   ],
   "source": [
    "period = tonight.find(class_=\"period-name\").get_text()\n",
    "short_desc = tonight.find(class_=\"short-desc\").get_text()\n",
    "temp = tonight.find(class_=\"temp\").get_text()\n",
    "print(period)\n",
    "print(short_desc)\n",
    "print(temp)"
   ]
  },
  {
   "cell_type": "code",
   "execution_count": 17,
   "metadata": {},
   "outputs": [
    {
     "name": "stdout",
     "output_type": "stream",
     "text": [
      "Tonight: Mostly clear, with a low around 46. Northwest wind around 11 mph. \n"
     ]
    }
   ],
   "source": [
    "img = tonight.find(\"img\")\n",
    "desc = img['title']\n",
    "print(desc)"
   ]
  },
  {
   "cell_type": "code",
   "execution_count": 18,
   "metadata": {},
   "outputs": [
    {
     "data": {
      "text/plain": [
       "['Tonight',\n",
       " 'Saturday',\n",
       " 'SaturdayNight',\n",
       " 'Sunday',\n",
       " 'SundayNight',\n",
       " 'Monday',\n",
       " 'MondayNight',\n",
       " 'Tuesday',\n",
       " 'TuesdayNight']"
      ]
     },
     "execution_count": 18,
     "metadata": {},
     "output_type": "execute_result"
    }
   ],
   "source": [
    "period_tags = seven_day.select(\".tombstone-container .period-name\")\n",
    "periods = [pt.get_text() for pt in period_tags]\n",
    "periods"
   ]
  },
  {
   "cell_type": "code",
   "execution_count": 19,
   "metadata": {},
   "outputs": [
    {
     "name": "stdout",
     "output_type": "stream",
     "text": [
      "['Mostly Clear', 'Sunny', 'Partly Cloudy', 'Chance Rainthen Rain', 'Rain thenRain Likely', 'ChanceShowers', 'Mostly Cloudy', 'Chance Rain', 'Chance Rain']\n",
      "['Low: 46 °F', 'High: 55 °F', 'Low: 47 °F', 'High: 55 °F', 'Low: 51 °F', 'High: 56 °F', 'Low: 50 °F', 'High: 56 °F', 'Low: 51 °F']\n",
      "['Tonight: Mostly clear, with a low around 46. Northwest wind around 11 mph. ', 'Saturday: Sunny, with a high near 55. North northwest wind 9 to 14 mph, with gusts as high as 18 mph. ', 'Saturday Night: Partly cloudy, with a low around 47. West northwest wind 5 to 11 mph becoming south southeast after midnight. ', 'Sunday: Rain, mainly after 5pm.  High near 55. South southwest wind 11 to 18 mph, with gusts as high as 24 mph.  Chance of precipitation is 80%. New precipitation amounts between a tenth and quarter of an inch possible. ', 'Sunday Night: Rain.  Low around 51. South wind 18 to 20 mph, with gusts as high as 25 mph.  Chance of precipitation is 90%. New precipitation amounts between a quarter and half of an inch possible. ', 'Monday: A 30 percent chance of showers, mainly before 11am.  Mostly cloudy, with a high near 56. New precipitation amounts between a tenth and quarter of an inch possible. ', 'Monday Night: Mostly cloudy, with a low around 50.', 'Tuesday: A chance of rain.  Mostly cloudy, with a high near 56.', 'Tuesday Night: A chance of rain.  Mostly cloudy, with a low around 51.']\n"
     ]
    }
   ],
   "source": [
    "short_descs = [sd.get_text() for sd in seven_day.select(\".tombstone-container .short-desc\")]\n",
    "temps = [t.get_text() for t in seven_day.select(\".tombstone-container .temp\")]\n",
    "descs = [d[\"title\"] for d in seven_day.select(\".tombstone-container img\")]\n",
    "\n",
    "print(short_descs)\n",
    "print(temps)\n",
    "print(descs)"
   ]
  },
  {
   "cell_type": "code",
   "execution_count": 26,
   "metadata": {},
   "outputs": [
    {
     "data": {
      "text/html": [
       "<div>\n",
       "<style>\n",
       "    .dataframe thead tr:only-child th {\n",
       "        text-align: right;\n",
       "    }\n",
       "\n",
       "    .dataframe thead th {\n",
       "        text-align: left;\n",
       "    }\n",
       "\n",
       "    .dataframe tbody tr th {\n",
       "        vertical-align: top;\n",
       "    }\n",
       "</style>\n",
       "<table border=\"1\" class=\"dataframe\">\n",
       "  <thead>\n",
       "    <tr style=\"text-align: right;\">\n",
       "      <th></th>\n",
       "      <th>desc</th>\n",
       "      <th>period</th>\n",
       "      <th>short_desc</th>\n",
       "      <th>temp</th>\n",
       "    </tr>\n",
       "  </thead>\n",
       "  <tbody>\n",
       "    <tr>\n",
       "      <th>0</th>\n",
       "      <td>Tonight: Mostly clear, with a low around 46. N...</td>\n",
       "      <td>Tonight</td>\n",
       "      <td>Mostly Clear</td>\n",
       "      <td>Low: 46 °F</td>\n",
       "    </tr>\n",
       "    <tr>\n",
       "      <th>1</th>\n",
       "      <td>Saturday: Sunny, with a high near 55. North no...</td>\n",
       "      <td>Saturday</td>\n",
       "      <td>Sunny</td>\n",
       "      <td>High: 55 °F</td>\n",
       "    </tr>\n",
       "    <tr>\n",
       "      <th>2</th>\n",
       "      <td>Saturday Night: Partly cloudy, with a low arou...</td>\n",
       "      <td>SaturdayNight</td>\n",
       "      <td>Partly Cloudy</td>\n",
       "      <td>Low: 47 °F</td>\n",
       "    </tr>\n",
       "    <tr>\n",
       "      <th>3</th>\n",
       "      <td>Sunday: Rain, mainly after 5pm.  High near 55....</td>\n",
       "      <td>Sunday</td>\n",
       "      <td>Chance Rainthen Rain</td>\n",
       "      <td>High: 55 °F</td>\n",
       "    </tr>\n",
       "    <tr>\n",
       "      <th>4</th>\n",
       "      <td>Sunday Night: Rain.  Low around 51. South wind...</td>\n",
       "      <td>SundayNight</td>\n",
       "      <td>Rain thenRain Likely</td>\n",
       "      <td>Low: 51 °F</td>\n",
       "    </tr>\n",
       "    <tr>\n",
       "      <th>5</th>\n",
       "      <td>Monday: A 30 percent chance of showers, mainly...</td>\n",
       "      <td>Monday</td>\n",
       "      <td>ChanceShowers</td>\n",
       "      <td>High: 56 °F</td>\n",
       "    </tr>\n",
       "    <tr>\n",
       "      <th>6</th>\n",
       "      <td>Monday Night: Mostly cloudy, with a low around...</td>\n",
       "      <td>MondayNight</td>\n",
       "      <td>Mostly Cloudy</td>\n",
       "      <td>Low: 50 °F</td>\n",
       "    </tr>\n",
       "    <tr>\n",
       "      <th>7</th>\n",
       "      <td>Tuesday: A chance of rain.  Mostly cloudy, wit...</td>\n",
       "      <td>Tuesday</td>\n",
       "      <td>Chance Rain</td>\n",
       "      <td>High: 56 °F</td>\n",
       "    </tr>\n",
       "    <tr>\n",
       "      <th>8</th>\n",
       "      <td>Tuesday Night: A chance of rain.  Mostly cloud...</td>\n",
       "      <td>TuesdayNight</td>\n",
       "      <td>Chance Rain</td>\n",
       "      <td>Low: 51 °F</td>\n",
       "    </tr>\n",
       "  </tbody>\n",
       "</table>\n",
       "</div>"
      ],
      "text/plain": [
       "                                                desc         period  \\\n",
       "0  Tonight: Mostly clear, with a low around 46. N...        Tonight   \n",
       "1  Saturday: Sunny, with a high near 55. North no...       Saturday   \n",
       "2  Saturday Night: Partly cloudy, with a low arou...  SaturdayNight   \n",
       "3  Sunday: Rain, mainly after 5pm.  High near 55....         Sunday   \n",
       "4  Sunday Night: Rain.  Low around 51. South wind...    SundayNight   \n",
       "5  Monday: A 30 percent chance of showers, mainly...         Monday   \n",
       "6  Monday Night: Mostly cloudy, with a low around...    MondayNight   \n",
       "7  Tuesday: A chance of rain.  Mostly cloudy, wit...        Tuesday   \n",
       "8  Tuesday Night: A chance of rain.  Mostly cloud...   TuesdayNight   \n",
       "\n",
       "             short_desc         temp  \n",
       "0          Mostly Clear   Low: 46 °F  \n",
       "1                 Sunny  High: 55 °F  \n",
       "2         Partly Cloudy   Low: 47 °F  \n",
       "3  Chance Rainthen Rain  High: 55 °F  \n",
       "4  Rain thenRain Likely   Low: 51 °F  \n",
       "5         ChanceShowers  High: 56 °F  \n",
       "6         Mostly Cloudy   Low: 50 °F  \n",
       "7           Chance Rain  High: 56 °F  \n",
       "8           Chance Rain   Low: 51 °F  "
      ]
     },
     "execution_count": 26,
     "metadata": {},
     "output_type": "execute_result"
    }
   ],
   "source": [
    "import pandas as pd\n",
    "weather = pd.DataFrame({\n",
    "    \"period\": periods,\n",
    "    \"short_desc\": short_descs,\n",
    "    \"temp\": temps,\n",
    "    \"desc\": descs\n",
    "})\n",
    "weather"
   ]
  },
  {
   "cell_type": "code",
   "execution_count": 41,
   "metadata": {},
   "outputs": [],
   "source": [
    "temp_nums = weather[\"temp\"].str.extract(\"(?P<temp_num>\\d+)\", expand=False)\n"
   ]
  },
  {
   "cell_type": "code",
   "execution_count": 42,
   "metadata": {},
   "outputs": [
    {
     "name": "stdout",
     "output_type": "stream",
     "text": [
      "51.888888888888886\n"
     ]
    }
   ],
   "source": [
    "temp_mean = temp_nums.astype('int').mean()\n",
    "print(temp_mean)"
   ]
  },
  {
   "cell_type": "code",
   "execution_count": null,
   "metadata": {
    "collapsed": true
   },
   "outputs": [],
   "source": []
  }
 ],
 "metadata": {
  "kernelspec": {
   "display_name": "Python 3",
   "language": "python",
   "name": "python3"
  }
 },
 "nbformat": 4,
 "nbformat_minor": 2
}
